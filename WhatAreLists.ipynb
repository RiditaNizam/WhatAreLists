{
  "nbformat": 4,
  "nbformat_minor": 0,
  "metadata": {
    "colab": {
      "name": "WhatAreLists.ipynb",
      "provenance": [],
      "authorship_tag": "ABX9TyN5G2zZH0KjhnUIF+QvynXH",
      "include_colab_link": true
    },
    "kernelspec": {
      "name": "python3",
      "display_name": "Python 3"
    },
    "language_info": {
      "name": "python"
    }
  },
  "cells": [
    {
      "cell_type": "markdown",
      "metadata": {
        "id": "view-in-github",
        "colab_type": "text"
      },
      "source": [
        "<a href=\"https://colab.research.google.com/github/RiditaNizam/WhatAreLists/blob/main/WhatAreLists.ipynb\" target=\"_parent\"><img src=\"https://colab.research.google.com/assets/colab-badge.svg\" alt=\"Open In Colab\"/></a>"
      ]
    },
    {
      "cell_type": "markdown",
      "metadata": {
        "id": "3Ca_HlMD5-I2"
      },
      "source": [
        "LinkedIn Learning\n",
        "Python for Students"
      ]
    },
    {
      "cell_type": "code",
      "metadata": {
        "id": "OhJ2cd9Nat6S",
        "colab": {
          "base_uri": "https://localhost:8080/"
        },
        "outputId": "390b23d5-7055-42c9-953c-9e07cb01c1e7"
      },
      "source": [
        "vacation_list = [\"Bali\", \"Bintan Island\"]\n",
        "\n",
        "vacation_list.insert(0, \"Jakarta\")\n",
        "\n",
        "#Insert a String at the beginning of the list\n",
        "print(vacation_list)"
      ],
      "execution_count": 1,
      "outputs": [
        {
          "output_type": "stream",
          "text": [
            "['Jakarta', 'Bali', 'Bintan Island']\n"
          ],
          "name": "stdout"
        }
      ]
    },
    {
      "cell_type": "code",
      "metadata": {
        "colab": {
          "base_uri": "https://localhost:8080/"
        },
        "id": "fgc_EqzM6sTt",
        "outputId": "7be8c53f-5347-47c0-9a81-ab85d8c23e53"
      },
      "source": [
        "#Delete a String from the list\n",
        "del vacation_list[2]\n",
        "\n",
        "print(vacation_list)"
      ],
      "execution_count": 2,
      "outputs": [
        {
          "output_type": "stream",
          "text": [
            "['Jakarta', 'Bali']\n"
          ],
          "name": "stdout"
        }
      ]
    },
    {
      "cell_type": "code",
      "metadata": {
        "colab": {
          "base_uri": "https://localhost:8080/"
        },
        "id": "kFmhAa7D66Xg",
        "outputId": "fd20ca37-e6bb-40a0-ad9d-9ad6fa451d72"
      },
      "source": [
        "#Pop off the last element of the list\n",
        "vacation_list.pop()\n",
        "\n",
        "print(vacation_list)"
      ],
      "execution_count": 3,
      "outputs": [
        {
          "output_type": "stream",
          "text": [
            "['Jakarta']\n"
          ],
          "name": "stdout"
        }
      ]
    },
    {
      "cell_type": "code",
      "metadata": {
        "colab": {
          "base_uri": "https://localhost:8080/"
        },
        "id": "2GP2jRKO7JXn",
        "outputId": "b9ce1e1e-0ffd-4b87-9f22-60fa9b89af92"
      },
      "source": [
        "#Remove an element from the list\n",
        "vacation_list.remove(\"Jakarta\")\n",
        "\n",
        "print(vacation_list)"
      ],
      "execution_count": 4,
      "outputs": [
        {
          "output_type": "stream",
          "text": [
            "[]\n"
          ],
          "name": "stdout"
        }
      ]
    }
  ]
}